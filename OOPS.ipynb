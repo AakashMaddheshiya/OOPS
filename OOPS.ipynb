{
 "cells": [
  {
   "cell_type": "markdown",
   "id": "3d5e00e3",
   "metadata": {},
   "source": [
    "# Q1 What are the five key concepts of Object-Oriented Programming (OOP)?"
   ]
  },
  {
   "cell_type": "code",
   "execution_count": 104,
   "id": "4050f3b4",
   "metadata": {},
   "outputs": [],
   "source": [
    "# Five key Concepts of OOPS\n",
    "\n",
    "\n",
    "# Encapsulation: This is the process of bundling data (attributes) and methods (functions) that operate on that data into a single unit, called an object. This helps to protect the data from unauthorized accessor modification.\n",
    "    \n",
    "# Inheritance: This is the mechanism by which one object can acquire the properties and behaviors of another object. This allows for code reuse and the creation of hierarchical relationships between objects.\n",
    "    \n",
    "# Polymorphism: This is the ability of objects of different types to be treated as if they were of the same type. This allows for greater flexibility and code reuse.\n",
    "\n",
    "# Abstraction: This is the process of simplifying a complex system by focusing on the essential features and ignoring the unnecessary details. This helps to make code easier to understand and maintain.\n",
    "    \n",
    "# Modularity: This is the process of breaking down a large system into smaller, more manageable units. This helps to improve code organization and maintainability."
   ]
  },
  {
   "cell_type": "markdown",
   "id": "caa48434",
   "metadata": {},
   "source": [
    "# Q2 Write a Python class for a `Car` with attributes for `make`, `model`, and `year`. Include a method to display the car's information."
   ]
  },
  {
   "cell_type": "code",
   "execution_count": 105,
   "id": "095ff9fa",
   "metadata": {},
   "outputs": [
    {
     "name": "stdout",
     "output_type": "stream",
     "text": [
      "Manufactrued By Toyta in 2023 and Model is Xyz and color is Yellow\n"
     ]
    },
    {
     "data": {
      "text/plain": [
       "'Yellow'"
      ]
     },
     "execution_count": 105,
     "metadata": {},
     "output_type": "execute_result"
    }
   ],
   "source": [
    "class Car:\n",
    "    def __init__(self,make,model,year):\n",
    "        self.make=make\n",
    "        self.model=model\n",
    "        self.year=year\n",
    "    def display(self,color):\n",
    "        self.color=color\n",
    "        print(f'Manufactrued By {self.make} in {self.year} and Model is {self.model} and color is {self.color}')\n",
    "car1=Car(\"Toyta\",\"Xyz\",2023)\n",
    "car1.display(\"Yellow\")\n",
    "car1.color"
   ]
  },
  {
   "cell_type": "markdown",
   "id": "160306f1",
   "metadata": {},
   "source": [
    "# Q3 . Explain the difference between instance methods and class methods. Provide an example of each."
   ]
  },
  {
   "cell_type": "code",
   "execution_count": 106,
   "id": "5f238e3b",
   "metadata": {},
   "outputs": [
    {
     "name": "stdout",
     "output_type": "stream",
     "text": [
      "Spyik is barking!\n",
      "The Lord of the Rings\n",
      "J.R.R. Tolkien\n",
      "1954\n"
     ]
    }
   ],
   "source": [
    "# Instance Methods:\n",
    "    \n",
    "# Associated with: Individual objects\n",
    "# Purpose: Operate on the specific data (attributes) of an object\n",
    "# Access: Requires an instance of the class to be called\n",
    "# Syntax: self is used as the first argument to refer to the current object\n",
    "    \n",
    "class Dog:\n",
    "    def __init__(self, name, breed):\n",
    "        self.name = name\n",
    "        self.breed = breed\n",
    "\n",
    "    def bark(self):\n",
    "        print(f\"{self.name} is barking!\")\n",
    "# Creating an instance \n",
    "Dg = Dog(\"Spyik\", \"Golden Retriever\")\n",
    "# Calling the instance\n",
    "Dg.bark()\n",
    "\n",
    "\n",
    "# Class Methods\n",
    "\n",
    "# Associated with: The class itself, not individual objects\n",
    "# Purpose: Operate on the class as a whole, often for utility or factory functions\n",
    "# Access: Can be called directly on the class without creating an instance\n",
    "# Syntax: Decorated with the @classmethod decorator\n",
    "\n",
    "class Book:\n",
    "    def __init__(self, title, author, year):\n",
    "        self.title = title\n",
    "        self.author = author\n",
    "        self.year = year\n",
    "    @classmethod\n",
    "    def from_string(cls, book_string):\n",
    "        title, author, year = book_string.strip().split(',')\n",
    "        return cls(title, author, int(year))\n",
    "book = Book.from_string(\"The Lord of the Rings,J.R.R. Tolkien,1954\")\n",
    "print(book.title)\n",
    "print(book.author)\n",
    "print(book.year )"
   ]
  },
  {
   "cell_type": "markdown",
   "id": "2ed83d71",
   "metadata": {},
   "source": [
    "# Q4 . How does Python implement method overloading? Give an example\n"
   ]
  },
  {
   "cell_type": "code",
   "execution_count": 107,
   "id": "0fad2cf3",
   "metadata": {},
   "outputs": [
    {
     "name": "stdout",
     "output_type": "stream",
     "text": [
      "B\n"
     ]
    },
    {
     "data": {
      "text/plain": [
       "'B is elder brother of A 😀'"
      ]
     },
     "execution_count": 107,
     "metadata": {},
     "output_type": "execute_result"
    }
   ],
   "source": [
    "# Define multiple methods with the same name within a class, even if they have different parameter types.\n",
    "class A:\n",
    "    def A_value(self):\n",
    "        print(\"A\")\n",
    "    def A_value(self,name,relation):\n",
    "        self.name=name\n",
    "        self.relation=relation\n",
    "        print(\"B\")\n",
    "a=A()\n",
    "# Here second A_value is overriding the first one \n",
    "a.A_value(\"Aakash\",\"B is elder brother of A 😀\")\n",
    "a.name\n",
    "a.relation"
   ]
  },
  {
   "cell_type": "markdown",
   "id": "719ebdef",
   "metadata": {},
   "source": [
    "# Q5  What are the three types of access modifiers in Python? How are they denoted?"
   ]
  },
  {
   "cell_type": "code",
   "execution_count": 108,
   "id": "ec956a8f",
   "metadata": {},
   "outputs": [],
   "source": [
    "# Three Types of access modifiers\n",
    "\n",
    "#1 Public: Attributes and methods that are not prefixed with an underscore name are considered public and can be accessed from anywhere within the class or outside.\n",
    "\n",
    "#2 Protected: Attributes and methods prefixed with a single underscore  _age are considered protected. They are intended to be used within the class and its subclasses,\n",
    "# but can also be accessed from outside the class. However, it is generally considered good practice to avoid accessing protected members directly from outside the class.\n",
    "\n",
    "#3 Private: Attributes and methods prefixed with double underscores  __private_attribute are considered private. They are intended for internal use only within the class and\n",
    "# cannot be accessed directly from outside. However, there's a mechanism called name mangling that prevents direct access but doesn't guarantee complete privacy.\n",
    "\n",
    "\n"
   ]
  },
  {
   "cell_type": "markdown",
   "id": "30234d6f",
   "metadata": {},
   "source": [
    "# Q6 Describe the five types of inheritance in Python. Provide a simple example of multiple inheritance."
   ]
  },
  {
   "cell_type": "code",
   "execution_count": 109,
   "id": "f5a1e184",
   "metadata": {},
   "outputs": [
    {
     "name": "stdout",
     "output_type": "stream",
     "text": [
      "A is the youngest child in the family of alfabate 😊\n",
      "B is the elder brother of A 🫵\n",
      "C is the father of  A and B 🙂\n"
     ]
    }
   ],
   "source": [
    "# Five types of inheritances\n",
    "\n",
    "# Single Inheritance: A class inherits from a single parent class.\n",
    "    \n",
    "# Multiple Inheritance: A class inherits from multiple parent classes. \n",
    "    \n",
    "# Multilevel Inheritance: A class inherits from a class that itself inherits from another class.\n",
    "    \n",
    "# Hierarchical Inheritance: Multiple classes inherit from a common parent class.\n",
    "    \n",
    "# Hybrid Inheritance:#  A combination of multiple inheritance, multilevel inheritance, and hierarchical inheritance.\n",
    "\n",
    "# Example of multiple inheritance\n",
    "\n",
    "class A:\n",
    "    def A_value(self):\n",
    "        print(\"A is the youngest child in the family of alfabate 😊\")\n",
    "class B:\n",
    "    def B_value(self):\n",
    "        print(\"B is the elder brother of A 🫵\")\n",
    "class C(A,B):\n",
    "    def C_value(self):\n",
    "        print(\"C is the father of  A and B 🙂\")\n",
    "        \n",
    "c=C()\n",
    "c.A_value()\n",
    "c.B_value()\n",
    "c.C_value()"
   ]
  },
  {
   "cell_type": "markdown",
   "id": "6897e9fe",
   "metadata": {},
   "source": [
    "# Q7 What is the Method Resolution Order (MRO) in Python? How can you retrieve it programmatically"
   ]
  },
  {
   "cell_type": "code",
   "execution_count": 110,
   "id": "e17c85f9",
   "metadata": {},
   "outputs": [
    {
     "name": "stdout",
     "output_type": "stream",
     "text": [
      "Hi I am A\n",
      "Hi I am the elder Brother of A\n",
      "Hi I am the father of A and B\n",
      "Hi I am the father of C and my name is D\n",
      "(<class '__main__.D'>, <class '__main__.B'>, <class '__main__.C'>, <class '__main__.A'>, <class 'object'>)\n"
     ]
    }
   ],
   "source": [
    "# Method Resolution Order (MRO) It is the order in which methods are searched for when an attribute or method is accessed on an object.\n",
    "# This is especially important in the context of multiple inheritance, where a class can inherit from multiple parent classes.\n",
    "\n",
    "\n",
    "# Retrieving the MRO Programmatically:\n",
    "\n",
    "# You can retrieve the MRO of a class using the __mro__ attribute. This attribute returns a tuple containing the classes in the MRO order.\n",
    "\n",
    "class A:\n",
    "    def A_value(self):\n",
    "        print(\"Hi I am A\")\n",
    "\n",
    "class B(A):\n",
    "    def B_value(self):\n",
    "        print(\"Hi I am the elder Brother of A\")\n",
    "\n",
    "class C(A):\n",
    "    def C_value(self):\n",
    "        print(\"Hi I am the father of A and B\")\n",
    "\n",
    "class D(B, C):\n",
    "    def D_value(self):\n",
    "        print(\"Hi I am the father of C and my name is D\")\n",
    "d=D()\n",
    "d.A_value()\n",
    "d.B_value()\n",
    "d.C_value()\n",
    "d.D_value()\n",
    "print(D.__mro__)\n"
   ]
  },
  {
   "cell_type": "markdown",
   "id": "cd549d38",
   "metadata": {},
   "source": [
    "# Q8 Create an abstract base class `Shape` with an abstract method `area()`. Then create two subclasses Circle` and `Rectangle` that implement the `area()` method."
   ]
  },
  {
   "cell_type": "code",
   "execution_count": 111,
   "id": "1846cd90",
   "metadata": {},
   "outputs": [
    {
     "data": {
      "text/plain": [
       "12"
      ]
     },
     "execution_count": 111,
     "metadata": {},
     "output_type": "execute_result"
    }
   ],
   "source": [
    "import math\n",
    "\n",
    "class Shape:\n",
    "    def area(self):\n",
    "        pass\n",
    "class Circle(Shape):\n",
    "    def __init__(self, radius):\n",
    "        self.radius = radius\n",
    "\n",
    "    def area(self):\n",
    "        return math.pi * self.radius**2\n",
    "\n",
    "class Rectangle(Shape):\n",
    "    def __init__(self, length, width):\n",
    "        self.length = length\n",
    "        self.width = width\n",
    "\n",
    "    def area(self):\n",
    "        return (self.length*self.width)\n",
    "\n",
    "circle = Circle(5)\n",
    "circle.area()\n",
    "rectangle=Rectangle(3,4)\n",
    "rectangle.area()"
   ]
  },
  {
   "cell_type": "markdown",
   "id": "0b426ab1",
   "metadata": {},
   "source": [
    "# Q9 Demonstrate polymorphism by creating a function that can work with different shape objects to calculate and print their areas"
   ]
  },
  {
   "cell_type": "code",
   "execution_count": 112,
   "id": "c3f07939",
   "metadata": {},
   "outputs": [
    {
     "name": "stdout",
     "output_type": "stream",
     "text": [
      "The area of the shape is 78.53981633974483\n",
      "The area of the shape is 12\n"
     ]
    }
   ],
   "source": [
    "# Key aspects of polymorphism:\n",
    "\n",
    "# Method Overriding: When a subclass provides a different implementation of a method inherited from its superclass, it's called method overriding. This allows you to customize the behavior of methods for specific subclasses.\n",
    "# Method Overloading: While Python doesn't support explicit method overloading, you can achieve similar behavior using default arguments, variable arguments, or type hints.\n",
    "\n",
    "import math\n",
    "\n",
    "class Shape:\n",
    "    def area(self):\n",
    "        pass\n",
    "\n",
    "class Circle(Shape):\n",
    "    def __init__(self, radius):\n",
    "        self.radius = radius\n",
    "\n",
    "    def area(self):\n",
    "        return math.pi * self.radius**2\n",
    "\n",
    "class Rectangle(Shape):\n",
    "    def __init__(self, length, width):\n",
    "        self.length = length\n",
    "        self.width = width\n",
    "\n",
    "    def area(self):\n",
    "        return self.length * self.width\n",
    "\n",
    "def calculate_and_print_area(shape):\n",
    "    area = shape.area()\n",
    "    print(f\"The area of the shape is {area}\")\n",
    "\n",
    "# Create instances of different shapes\n",
    "circle = Circle(5)\n",
    "rectangle = Rectangle(3, 4)\n",
    "\n",
    "# Call the function with different shape objects\n",
    "calculate_and_print_area(circle)\n",
    "calculate_and_print_area(rectangle)"
   ]
  },
  {
   "cell_type": "markdown",
   "id": "bf62f142",
   "metadata": {},
   "source": [
    "# Q10 . Implement encapsulation in a `BankAccount` class with private attributes for `balance` and `account_number`. Include methods for deposit, withdrawal, and balance inquiry."
   ]
  },
  {
   "cell_type": "code",
   "execution_count": 113,
   "id": "a6c72525",
   "metadata": {},
   "outputs": [
    {
     "name": "stdout",
     "output_type": "stream",
     "text": [
      "5000 has been Created now total amount is 7000\n",
      "200 has been withdraw now rest of the amount is 6800\n"
     ]
    },
    {
     "data": {
      "text/plain": [
       "'Total amount in your account is 6800'"
      ]
     },
     "execution_count": 113,
     "metadata": {},
     "output_type": "execute_result"
    }
   ],
   "source": [
    "class BankAccount:\n",
    "    def __init__(self,balance,account_number):\n",
    "        self.__balance=balance\n",
    "        self.__account_number=account_number\n",
    "    def deposit(self,amount):     \n",
    "        self.__balance+=amount\n",
    "        print(f'{amount} has been Created now total amount is {self.__balance}')\n",
    "    def withdrawal(self,amount):\n",
    "        if self.__balance>=amount:  \n",
    "            self.__balance-=amount\n",
    "            print(f'{amount} has been withdraw now rest of the amount is {self.__balance}')\n",
    "        else:\n",
    "            print(\"Insufficient Balance\")\n",
    "    def get_balance(self):\n",
    "        return f'Total amount in your account is {self.__balance}'\n",
    "    \n",
    "\n",
    "bankaccount=BankAccount(2000,\"12345\")\n",
    "bankaccount.deposit(5000)\n",
    "bankaccount.withdrawal(200)\n",
    "bankaccount.get_balance()\n"
   ]
  },
  {
   "cell_type": "markdown",
   "id": "085fdbc4",
   "metadata": {},
   "source": [
    "# Q11 Write a class that overrides the `__str__` and `__add__` magic methods. What will these methods allow you to do?"
   ]
  },
  {
   "cell_type": "code",
   "execution_count": 114,
   "id": "2ef7c95a",
   "metadata": {},
   "outputs": [
    {
     "name": "stdout",
     "output_type": "stream",
     "text": [
      "The Lord of the Rings by J.R.R. Tolkien\n",
      "Harry Potter and the Sorcerer's Stone by J.K. Rowling\n",
      "The Lord of the Rings and Harry Potter and the Sorcerer's Stone by Combined Authors\n"
     ]
    }
   ],
   "source": [
    "\n",
    "# Overriding __str__ and __add__ Magic Methods\n",
    "# By overriding the __str__ and __add__ magic methods, you can customize how objects of your custom class are represented as strings and how they behave when the addition operator is used on them.\n",
    "\n",
    "\n",
    "# __str__ method:\n",
    "# This method is called when you try to convert an object to a string using the str() function or when you print the object directly.\n",
    "# It allows you to define a custom string representation for your objects.\n",
    "\n",
    "\n",
    "# __add__ method:\n",
    "# This method is called when you use the + operator on two objects of your class.\n",
    "# It allows you to define how objects of your class should be added together.\n",
    "\n",
    "class Book:\n",
    "    def __init__(self, title, author, pages):\n",
    "        self.title = title\n",
    "        self.author = author\n",
    "        self.pages = pages\n",
    "\n",
    "    def __str__(self):\n",
    "        return f\"{self.title} by {self.author}\"\n",
    "\n",
    "    def __add__(self, other):\n",
    "        combined_pages = self.pages + other.pages\n",
    "        return Book(f\"{self.title} and {other.title}\", \"Combined Authors\", combined_pages)\n",
    "\n",
    "#\n",
    "book1 = Book(\"The Lord of the Rings\", \"J.R.R. Tolkien\", 1178)\n",
    "book2 = Book(\"Harry Potter and the Sorcerer's Stone\", \"J.K. Rowling\", 309)\n",
    "\n",
    "print(book1) \n",
    "print(book2)  \n",
    "combined_book = book1 + book2\n",
    "print(combined_book)  "
   ]
  },
  {
   "cell_type": "markdown",
   "id": "8ac4c5d2",
   "metadata": {},
   "source": [
    "# Q12 Create a decorator that measures and prints the execution time of a function."
   ]
  },
  {
   "cell_type": "code",
   "execution_count": 115,
   "id": "e985fb48",
   "metadata": {},
   "outputs": [
    {
     "name": "stdout",
     "output_type": "stream",
     "text": [
      "Function completed.\n",
      "Function my_function took 2.01103 seconds to execute.\n"
     ]
    }
   ],
   "source": [
    "import time\n",
    "\n",
    "def measure_time(func):\n",
    "    def wrapper(*args, **kwargs):\n",
    "        start_time = time.time()\n",
    "        result = func(*args, **kwargs)\n",
    "        end_time = time.time()\n",
    "        elapsed_time = end_time - start_time\n",
    "        print(f\"Function {func.__name__} took {elapsed_time:.5f} seconds to execute.\")\n",
    "        return result\n",
    "    return wrapper\n",
    "\n",
    "@measure_time\n",
    "def my_function():  \n",
    "    time.sleep(2)\n",
    "    print(\"Function completed.\")\n",
    "\n",
    "my_function()"
   ]
  },
  {
   "cell_type": "markdown",
   "id": "ce872d8e",
   "metadata": {},
   "source": [
    "# Q13 Explain the concept of the Diamond Problem in multiple inheritance. How does Python resolve it?"
   ]
  },
  {
   "cell_type": "code",
   "execution_count": 116,
   "id": "fb708111",
   "metadata": {},
   "outputs": [
    {
     "name": "stdout",
     "output_type": "stream",
     "text": [
      "Generic animal sound\n",
      "None\n",
      "Woof!\n",
      "None\n",
      "Meow!\n",
      "None\n",
      "Woof!\n",
      "None\n",
      "(<class '__main__.DogCat'>, <class '__main__.Canine'>, <class '__main__.Dog'>, <class '__main__.Feline'>, <class '__main__.Cat'>, <class '__main__.Animal'>, <class 'object'>)\n",
      "Barking...\n",
      "Purring...\n"
     ]
    }
   ],
   "source": [
    "class Animal:\n",
    "    def speak(self):\n",
    "        print(\"Generic animal sound\")\n",
    "\n",
    "class Dog(Animal):\n",
    "    def speak(self):\n",
    "        print(\"Woof!\")\n",
    "\n",
    "class Cat(Animal):\n",
    "    def speak(self):\n",
    "        print(\"Meow!\")\n",
    "\n",
    "class Canine(Dog):\n",
    "    def bark(self):\n",
    "        print(\"Barking...\")\n",
    "\n",
    "class Feline(Cat):\n",
    "    def purr(self):\n",
    "        print(\"Purring...\")\n",
    "\n",
    "class DogCat(Canine, Feline):\n",
    "    pass\n",
    "\n",
    "animal = Animal()\n",
    "dog = Dog()\n",
    "cat = Cat()\n",
    "dogcat = DogCat()\n",
    "\n",
    "\n",
    "print(animal.speak()) \n",
    "print(dog.speak()) \n",
    "print(cat.speak())  \n",
    "print(dogcat.speak())\n",
    "\n",
    "\n",
    "print(DogCat.__mro__)  \n",
    "dogcat.bark()  \n",
    "dogcat.purr() "
   ]
  },
  {
   "cell_type": "markdown",
   "id": "e13ade03",
   "metadata": {},
   "source": [
    "# Q14 Write a class method that keeps track of the number of instances created from a class."
   ]
  },
  {
   "cell_type": "code",
   "execution_count": 117,
   "id": "0e922624",
   "metadata": {},
   "outputs": [
    {
     "name": "stdout",
     "output_type": "stream",
     "text": [
      "3\n"
     ]
    }
   ],
   "source": [
    "class MyClass:\n",
    "    count = 0\n",
    "\n",
    "    def __init__(self):\n",
    "        MyClass.count += 1\n",
    "\n",
    "    @classmethod\n",
    "    def get_instance_count(cls):\n",
    "        return cls.count\n",
    "\n",
    "obj1 = MyClass()\n",
    "obj2 = MyClass()\n",
    "obj3 = MyClass()\n",
    "print(MyClass.get_instance_count()) "
   ]
  },
  {
   "cell_type": "markdown",
   "id": "bf54df2f",
   "metadata": {},
   "source": [
    "# Q15 Implement a static method in a class that checks if a given year is a leap year"
   ]
  },
  {
   "cell_type": "code",
   "execution_count": 118,
   "id": "11e21670",
   "metadata": {},
   "outputs": [
    {
     "name": "stdout",
     "output_type": "stream",
     "text": [
      "2024 is a leap year.\n"
     ]
    }
   ],
   "source": [
    "class YearChecker:\n",
    "    @staticmethod\n",
    "    def is_leap_year(year):\n",
    "        if year % 4 == 0:\n",
    "            if year % 100 == 0:\n",
    "                if year % 400 == 0:\n",
    "                    return True\n",
    "                else:\n",
    "                    return False\n",
    "            else:\n",
    "                return True\n",
    "        else:\n",
    "            return False\n",
    "year = 2024\n",
    "if YearChecker.is_leap_year(year):\n",
    "    print(f\"{year} is a leap year.\")\n",
    "else:\n",
    "    print(f\"{year} is not a leap year.\")"
   ]
  }
 ],
 "metadata": {
  "kernelspec": {
   "display_name": "Python 3 (ipykernel)",
   "language": "python",
   "name": "python3"
  },
  "language_info": {
   "codemirror_mode": {
    "name": "ipython",
    "version": 3
   },
   "file_extension": ".py",
   "mimetype": "text/x-python",
   "name": "python",
   "nbconvert_exporter": "python",
   "pygments_lexer": "ipython3",
   "version": "3.9.13"
  }
 },
 "nbformat": 4,
 "nbformat_minor": 5
}
